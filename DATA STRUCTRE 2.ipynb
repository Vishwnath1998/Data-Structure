{
 "cells": [
  {
   "cell_type": "markdown",
   "metadata": {},
   "source": [
    "ASSINGMENT NO.2"
   ]
  },
  {
   "cell_type": "code",
   "execution_count": 1,
   "metadata": {},
   "outputs": [],
   "source": [
    "lst = [1,2,3,4,5]"
   ]
  },
  {
   "cell_type": "code",
   "execution_count": 19,
   "metadata": {},
   "outputs": [],
   "source": [
    "\n",
    "def delete(lst):\n",
    "\n",
    "    x = 4\n",
    "    n = len(lst)\n",
    "\n",
    "\n",
    "\n",
    "    for i in range(n):\n",
    "        if lst[i]== x:\n",
    "            break\n",
    "\n",
    "\n",
    "    while(i<n):\n",
    "        n = n-1\n",
    "        for j in range(i,n,1):\n",
    "            lst[j] = lst[j+1]\n",
    "            \n",
    "    \n",
    "        \n",
    "    n = len(lst) - 1\n",
    "    for i in range(n):\n",
    "        print(lst[i],end=\" \")\n",
    "    "
   ]
  },
  {
   "cell_type": "code",
   "execution_count": 21,
   "metadata": {},
   "outputs": [
    {
     "name": "stdout",
     "output_type": "stream",
     "text": [
      "1 2 3 5 "
     ]
    }
   ],
   "source": [
    "delete(lst)"
   ]
  },
  {
   "cell_type": "markdown",
   "metadata": {},
   "source": [
    "Q2"
   ]
  },
  {
   "cell_type": "code",
   "execution_count": 6,
   "metadata": {},
   "outputs": [],
   "source": [
    "lst = [10,11,12,13,14]"
   ]
  },
  {
   "cell_type": "code",
   "execution_count": 8,
   "metadata": {},
   "outputs": [
    {
     "name": "stdout",
     "output_type": "stream",
     "text": [
      "4\n",
      "[14, 10, 11, 12, 13]\n"
     ]
    }
   ],
   "source": [
    "k = int(input())\n",
    "length = len(lst)-1\n",
    "for j in range(k):\n",
    "        \n",
    "    temp = lst[0]\n",
    "    for i in range(length):\n",
    "        lst[i]= lst[i+1]\n",
    "    lst[length]=temp\n",
    "print(lst)\n"
   ]
  },
  {
   "cell_type": "code",
   "execution_count": null,
   "metadata": {},
   "outputs": [],
   "source": []
  },
  {
   "cell_type": "code",
   "execution_count": null,
   "metadata": {},
   "outputs": [],
   "source": []
  }
 ],
 "metadata": {
  "kernelspec": {
   "display_name": "Python 3",
   "language": "python",
   "name": "python3"
  },
  "language_info": {
   "codemirror_mode": {
    "name": "ipython",
    "version": 3
   },
   "file_extension": ".py",
   "mimetype": "text/x-python",
   "name": "python",
   "nbconvert_exporter": "python",
   "pygments_lexer": "ipython3",
   "version": "3.7.3"
  }
 },
 "nbformat": 4,
 "nbformat_minor": 2
}
