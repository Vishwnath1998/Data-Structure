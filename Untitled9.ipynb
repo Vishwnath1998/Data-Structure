{
 "cells": [
  {
   "cell_type": "markdown",
   "metadata": {},
   "source": [
    "ASSINGMENT NO.2"
   ]
  },
  {
   "cell_type": "code",
   "execution_count": 1,
   "metadata": {},
   "outputs": [],
   "source": [
    "lst = [1,2,3,4,5]"
   ]
  },
  {
   "cell_type": "code",
   "execution_count": 19,
   "metadata": {},
   "outputs": [],
   "source": [
    "\n",
    "def delete(lst):\n",
    "\n",
    "    x = 4\n",
    "    n = len(lst)\n",
    "\n",
    "\n",
    "\n",
    "    for i in range(n):\n",
    "        if lst[i]== x:\n",
    "            break\n",
    "\n",
    "\n",
    "    while(i<n):\n",
    "        n = n-1\n",
    "        for j in range(i,n,1):\n",
    "            lst[j] = lst[j+1]\n",
    "            \n",
    "    \n",
    "        \n",
    "    n = len(lst) - 1\n",
    "    for i in range(n):\n",
    "        print(lst[i],end=\" \")\n",
    "    "
   ]
  },
  {
   "cell_type": "code",
   "execution_count": 20,
   "metadata": {},
   "outputs": [
    {
     "name": "stdout",
     "output_type": "stream",
     "text": [
      "1 2 3 5 "
     ]
    }
   ],
   "source": [
    "delete(lst)"
   ]
  }
 ],
 "metadata": {
  "kernelspec": {
   "display_name": "Python 3",
   "language": "python",
   "name": "python3"
  },
  "language_info": {
   "codemirror_mode": {
    "name": "ipython",
    "version": 3
   },
   "file_extension": ".py",
   "mimetype": "text/x-python",
   "name": "python",
   "nbconvert_exporter": "python",
   "pygments_lexer": "ipython3",
   "version": "3.7.3"
  }
 },
 "nbformat": 4,
 "nbformat_minor": 2
}
